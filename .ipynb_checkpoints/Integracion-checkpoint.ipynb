{
 "cells": [
  {
   "cell_type": "markdown",
   "id": "6daf02df",
   "metadata": {},
   "source": [
    "## Revision datos IMFD"
   ]
  },
  {
   "cell_type": "code",
   "execution_count": 2,
   "id": "abb9a6a7",
   "metadata": {},
   "outputs": [
    {
     "data": {
      "text/plain": [
       "116412"
      ]
     },
     "execution_count": 2,
     "metadata": {},
     "output_type": "execute_result"
    }
   ],
   "source": [
    "datos = open(\"datos/IMFD/grafo.ttl\", \"r\")\n",
    "\n",
    "declaracionesOld = 0\n",
    "setDeclaraciones = set()\n",
    "for i in datos:\n",
    "    setDeclaraciones.add(i)\n",
    "    declaracionesOld += 1\n",
    "datos.close()\n",
    "declaracionesOld"
   ]
  },
  {
   "cell_type": "code",
   "execution_count": 3,
   "id": "3e0c86ec",
   "metadata": {},
   "outputs": [
    {
     "data": {
      "text/plain": [
       "42145"
      ]
     },
     "execution_count": 3,
     "metadata": {},
     "output_type": "execute_result"
    }
   ],
   "source": [
    "len(setDeclaraciones)"
   ]
  },
  {
   "cell_type": "code",
   "execution_count": 4,
   "id": "13e1e611",
   "metadata": {},
   "outputs": [],
   "source": [
    "import re"
   ]
  },
  {
   "cell_type": "code",
   "execution_count": 5,
   "id": "270030f6",
   "metadata": {},
   "outputs": [],
   "source": [
    "topicoRegex = re.compile(\"<http://www.example.cl/topico/\\d*>\")\n",
    "nombreTopicoRegex = re.compile('\\\".*\\\"')"
   ]
  },
  {
   "cell_type": "code",
   "execution_count": 6,
   "id": "581c354e",
   "metadata": {},
   "outputs": [],
   "source": [
    "dictTopicoNombre = {}\n",
    "\n",
    "for i in setDeclaraciones:\n",
    "    match = topicoRegex.match(i)\n",
    "    if match != None:\n",
    "        idTopico = int(match.group()[30:-1])\n",
    "        match = nombreTopicoRegex.search(i)\n",
    "        if match != None:\n",
    "            dictTopicoNombre[idTopico] = match.group()[1:-1]"
   ]
  },
  {
   "cell_type": "markdown",
   "id": "49e7534a",
   "metadata": {},
   "source": [
    "## Integracion"
   ]
  },
  {
   "cell_type": "code",
   "execution_count": 7,
   "id": "7ba8c248",
   "metadata": {},
   "outputs": [],
   "source": [
    "names = {\n",
    "    1 : '\"Derechos Fundamentales\"',\n",
    "    2 : '\"Libertad De Asociacion\"',\n",
    "    3 : '\"Derechos Civiles\"',\n",
    "    4 : '\"Familia\"',\n",
    "    5 : '\"Reformas y Constitucion\"',\n",
    "    6 : '\"Reforma\"',\n",
    "    7 : '\"Deber\"',\n",
    "    8 : '\"Origen\"',\n",
    "    9 : '\"Nacionalidad\"',\n",
    "    10: '\"Deportacion\"',\n",
    "    11: '\"Frontera\"',\n",
    "    12: '\"Pueblos Originarios\"',\n",
    "    13: '\"Religion\"',\n",
    "    14: '\"Sistema Electoral\"',\n",
    "    15: '\"Voto\"',\n",
    "    16: '\"Eleccion\"',\n",
    "    17: '\"Censo\"',\n",
    "    18: '\"Distrito\"',\n",
    "    19: '\"Partidos Politicos\"',\n",
    "    20: '\"Partido\"',\n",
    "    21: '\"Regulacion a Partidos\"',\n",
    "    22: '\"Derecho a Patido\"',\n",
    "    23: '\"Estado\"',\n",
    "    24: '\"Ejecutivo\"',\n",
    "    25: '\"Legislativo\"',\n",
    "    26: '\"Territorio\"',\n",
    "    27: '\"Judicial\"',\n",
    "    28: '\"FFAA\"',\n",
    "    29: '\"Derecho Internacional\"',\n",
    "    30: '\"Economia\"',\n",
    "    31: '\"Presupuesto\"',\n",
    "    32: '\"Banco\"',\n",
    "    33: '\"Expropiacion\"',\n",
    "    34: '\"Mercado\"',\n",
    "    35: '\"Propiedad\"',\n",
    "    36: '\"Ocupacion\"',\n",
    "    39: '\"Derechos Humanos\"',\n",
    "    42: '\"Medios de Comunicacion\"',\n",
    "    43: '\"Comunicacion\"',\n",
    "    44: '\"Censura\"',\n",
    "    45: '\"Reputacion\"',\n",
    "    46: '\"Igualdad\"',\n",
    "    47: '\"Color de Piel\"',\n",
    "    48: '\"Estatus Social\"',\n",
    "    50: '\"Orientacion Sexual\"',\n",
    "    51: '\"Edad\"',\n",
    "    53: '\"Marital\"',\n",
    "    54: '\"Cultura\"',\n",
    "    55: '\"Simbolos\"',\n",
    "    56: '\"Ciencia\"',\n",
    "    57: '\"Historia\"',\n",
    "    58: '\"Derechos Sociales\"',\n",
    "    59: '\"Educacion\"',\n",
    "    60: '\"Medio Ambiente\"',\n",
    "    62: '\"Desempleo\"',\n",
    "    66: '\"Agua\"',\n",
    "    67: '\"Trabajo\"'\n",
    "}"
   ]
  },
  {
   "cell_type": "code",
   "execution_count": 8,
   "id": "6542adba",
   "metadata": {},
   "outputs": [],
   "source": [
    "prefijos = {\n",
    "    \"topico\" : \"<http://www.example.cl/topico/\",\n",
    "    \"type\" : \"<http://www.w3.org/1999/02/22-rdf-syntax-ns#type>\",\n",
    "    \"Topico\" : \"<http://www.imfd.cl/ontologia/convencion#Topico>\",\n",
    "    \"nombre\" : \"<http://www.imfd.cl/ontologia/convencion#nombreTopico>\"\n",
    "}"
   ]
  },
  {
   "cell_type": "code",
   "execution_count": 9,
   "id": "0c631ce3",
   "metadata": {},
   "outputs": [],
   "source": [
    "formato = \"{0} {1} {2} .\\n\""
   ]
  },
  {
   "cell_type": "code",
   "execution_count": 10,
   "id": "5924e6ca",
   "metadata": {},
   "outputs": [],
   "source": [
    "setDeclaracionesNew = set()\n",
    "\n",
    "for i in setDeclaraciones:\n",
    "    match = topicoRegex.match(i)\n",
    "    search = topicoRegex.search(i)\n",
    "    if match != None:\n",
    "        idTopico = int(match.group()[30:-1])\n",
    "        if idTopico in names:\n",
    "            if \"type\" in i:\n",
    "                sujeto = prefijos[\"topico\"] + dictTopicoNombre[idTopico] + \">\"\n",
    "                predicado = prefijos[\"type\"]\n",
    "                objeto = prefijos[\"Topico\"]\n",
    "                setDeclaracionesNew.add(formato.format(sujeto, predicado,objeto))\n",
    "            \n",
    "            if \"nombreTopico\" in i:\n",
    "                sujeto = prefijos[\"topico\"] + dictTopicoNombre[idTopico] + \">\"\n",
    "                predicado = prefijos[\"nombre\"]\n",
    "                objeto = names[idTopico]\n",
    "                setDeclaracionesNew.add(formato.format(sujeto, predicado,objeto))\n",
    "    \n",
    "    elif search != None:\n",
    "        idTopico = int(search.group()[30:-1])\n",
    "        if idTopico in names:\n",
    "            declaracion = i[:search.span()[0]] + prefijos[\"topico\"] + dictTopicoNombre[idTopico] + \"> .\\n\"\n",
    "            setDeclaracionesNew.add(declaracion)\n",
    "    else:\n",
    "        setDeclaracionesNew.add(i)"
   ]
  },
  {
   "cell_type": "code",
   "execution_count": 11,
   "id": "f01ad5df",
   "metadata": {},
   "outputs": [],
   "source": [
    "datosNew = open(\"Ttl/grafo.ttl\",\"w\")\n",
    "for i in setDeclaracionesNew:\n",
    "    datosNew.write(i)\n",
    "    \n",
    "datosNew.close()   "
   ]
  },
  {
   "cell_type": "markdown",
   "id": "35d9d047",
   "metadata": {},
   "source": [
    "## Integracion"
   ]
  },
  {
   "cell_type": "code",
   "execution_count": 12,
   "id": "dd511966",
   "metadata": {},
   "outputs": [],
   "source": [
    "import requests\n",
    "url = \"https://www.constituteproject.org/service/topics?lang=es\"\n",
    "\n",
    "# A GET request to the API\n",
    "response = requests.get(url)\n",
    "\n",
    "# Print the response\n",
    "response_json = response.json()"
   ]
  },
  {
   "cell_type": "code",
   "execution_count": 13,
   "id": "23b09166",
   "metadata": {},
   "outputs": [],
   "source": [
    "nombreClases = {}\n",
    "for topics in response_json:\n",
    "    for subtopics in topics[\"topics\"]:\n",
    "        if topics[\"key\"] not in nombreClases:\n",
    "            nombreClases[topics[\"key\"]] = []\n",
    "        nombreClases[topics[\"key\"]].append(subtopics[\"key\"])\n",
    "        for subsubtopics in subtopics[\"topics\"]:\n",
    "            if subtopics[\"key\"] not in nombreClases:\n",
    "                nombreClases[subtopics[\"key\"]] = []\n",
    "            nombreClases[subtopics[\"key\"]].append(subsubtopics[\"key\"])\n",
    "            nombreClases[topics[\"key\"]].append(subsubtopics[\"key\"])"
   ]
  },
  {
   "cell_type": "code",
   "execution_count": 14,
   "id": "663175fa",
   "metadata": {},
   "outputs": [],
   "source": [
    "dictIntegracionA = {\n",
    "    'derecho_fundamental': [\"Civil_and_Political_Rights\",\"assoc\"],\n",
    "    'libertad_asociacion': [\"assoc\"],\n",
    "    'derecho_civil': [\"Civil_and_Political_Rights\"],\n",
    "    'pueblo_originario': [\"Indigenous_Groups\"],\n",
    "    'religion': [\"Religion\"],\n",
    "    'voto': [\"Suffrage_and_Turnout\"],\n",
    "    'eleccion': [\"elections\"],\n",
    "    'censo': [\"census\"],\n",
    "    'distrito': [\"district\"],\n",
    "    'estado': [\"executive\",\"judiciary\",\"legislature\"],\n",
    "    'ejecutivo': [\"executive\"],\n",
    "    'legislativo': [\"legislature\"],\n",
    "    'judicial': [\"judiciary\"],\n",
    "    'ff_aa': [\"Military\"],\n",
    "    'derecho_internacional': [\"intlaw\"],\n",
    "    'economia': [\"bank\"],\n",
    "    'dd_hh': [\"hr\"],\n",
    "    'igualdad': [\"equalgr10\", \"equalgr9\", \"equalgr8\", \"equalgr12\", \"equalgr16\", \"equalgr13\", \"equalgr7\", \"matequal\"],\n",
    "    'color_de_piel': [\"equalgr10\"],\n",
    "    'estatus_social': [\"equalgr12\"],\n",
    "    'orientacion_sexual': [\"equalgr7\"],\n",
    "    'edad': [\"equalgr8\"],\n",
    "    'marital': [\"matequal\"],\n",
    "    'cultura': [\"science\", \"prevcond\"],\n",
    "    'ciencia': [\"science\"],\n",
    "    'historia': [\"prevcond\"],\n",
    "    'derecho_social': [\"water\", \"health\"],\n",
    "    'agua': [\"water\"],\n",
    "}"
   ]
  },
  {
   "cell_type": "code",
   "execution_count": 15,
   "id": "7e660d94",
   "metadata": {},
   "outputs": [],
   "source": [
    "dictIntegracionB = {\n",
    "    'derecho_fundamental': [\"fndfam\"],\n",
    "    'familia': [\"fndfam\"],\n",
    "    'reforma_y_constitucion': [\"abide\", \"amendment\"],\n",
    "    'reforma': [\"amendment\"],\n",
    "    'deberes': [\"abide\"],\n",
    "    'nacionalidad': [\"natcit\", \"citizen\"],\n",
    "    'deportacion': [\"citdep\"],\n",
    "    'frontera': [\"resenex\"],\n",
    "    'partido': [\"partreg\"],\n",
    "    'estado': [\"Secession_and_Accession\"],\n",
    "    'territorio': [\"Secession_and_Accession\"],\n",
    "    'ff_aa': [\"Military\"],\n",
    "    'derecho_internacional': [\"intlaw\"],\n",
    "    'economia': [\"exprop\", \"freecomp\", \"occupate\", \"balbudgt\", \"budget\", \"proprght\", \"transfer\", \"intprop\"],\n",
    "    'presupuesto': [\"balbudgt\", \"budget\"],\n",
    "    'expropiacion': [\"exprop\"],\n",
    "    'mercado': [\"freecomp\"],\n",
    "    'propiedad': [\"proprght\", \"transfer\", \"intprop\"],\n",
    "    'ocupacion': [\"occupate\"],\n",
    "    'medios_de_comunicacion': [\"medcom\", \"telecom\"],\n",
    "    'comunicacion': [\"medcom\", \"telecom\"],\n",
    "    'censura': [\"medcom\", \"telecom\"],\n",
    "    'cultura': [\"anthem\", \"flag\"],\n",
    "    'simbolos': [\"anthem\", \"flag\"],\n",
    "    'derecho_social': [\"finsup3\", \"finsup1\", \"achighed\", \"edfree\", \"edcomp\", \"env\", \"finsup4\", \"childwrk\", \"childpro\", \"provwork\", \"safework\", \"strike\", \"jointrde\"],\n",
    "    'educacion': [\"achighed\", \"edfree\", \"edcomp\"],\n",
    "    'medio_ambiente': [\"env\"],\n",
    "    'trabajo': [\"provwork\", \"safework\", \"strike\", \"jointrde\"],\n",
    "}"
   ]
  },
  {
   "cell_type": "code",
   "execution_count": 16,
   "id": "bb175183",
   "metadata": {},
   "outputs": [],
   "source": [
    "prefijos2 = {\n",
    "    \"cc\" : \"<http://www.example.cl/topico/\",\n",
    "    \"ccp\": \"<http://www.constituteproject.org/ontology/\"\n",
    "}\n",
    "\n",
    "predicadoA = \"<http://www.imfd.cl/ontologia/convencion#incluidoEn>\"\n",
    "predicadoB = \"<http://www.imfd.cl/ontologia/convencion#incluyeParteDe>\"\n",
    "\n",
    "predicadoType = \"<http://www.w3.org/1999/02/22-rdf-syntax-ns#type>\"\n",
    "\n",
    "evento = re.compile(\"<http://www.constituteproject.org/constitution/.*_\\d*>\")\n",
    "\n"
   ]
  },
  {
   "cell_type": "code",
   "execution_count": 17,
   "id": "9053a978",
   "metadata": {},
   "outputs": [],
   "source": [
    "clasesEncotradas = set()\n",
    "\n",
    "def buscarReferencia(dictIntegracion, declaracion):\n",
    "    \n",
    "    sujetos = set()\n",
    "    \n",
    "    claseCCP = re.compile(\"<http://www.constituteproject.org/ontology/.*>\")\n",
    "    search = claseCCP.search(declaracion)\n",
    "    \n",
    "    if search != None:\n",
    "        clase = search.group()[43:-1]\n",
    "        clasesEncotradas.add(clase)\n",
    "\n",
    "        for topico in dictIntegracion:\n",
    "            if clase in dictIntegracion[topico]:\n",
    "                sujetos.add(prefijos2[\"cc\"] + topico + \">\")\n",
    "                \n",
    "            for claseCCP in dictIntegracion[topico]:\n",
    "                if claseCCP in nombreClases:\n",
    "                    if clase in nombreClases[claseCCP]:\n",
    "                        sujetos.add(prefijos2[\"cc\"] + topico + \">\")\n",
    "                \n",
    "    return sujetos          \n",
    "        "
   ]
  },
  {
   "cell_type": "code",
   "execution_count": 18,
   "id": "243a61eb",
   "metadata": {
    "scrolled": true
   },
   "outputs": [],
   "source": [
    "datos = open(\"Ttl/datosDuros.ttl\", \"r\")\n",
    "setIntegracion = set()\n",
    "\n",
    "for declaracion in datos:\n",
    "    if predicadoType in declaracion:\n",
    "        sujetos = buscarReferencia(dictIntegracionA, declaracion)\n",
    "        if len(sujetos) != 0:\n",
    "            for sujeto in sujetos:\n",
    "                search = evento.search(declaracion)\n",
    "                objeto = search.group()\n",
    "                declaracion = formato.format(sujeto, predicadoA, objeto)\n",
    "                setIntegracion.add(declaracion)\n",
    "            \n",
    "        sujetos = buscarReferencia(dictIntegracionB, declaracion)\n",
    "        if len(sujetos) != 0:\n",
    "            for sujeto in sujetos:\n",
    "                search = evento.search(declaracion)\n",
    "                objeto = search.group()\n",
    "                declaracion = formato.format(objeto, predicadoB, sujeto)\n",
    "                setIntegracion.add(declaracion)\n",
    "                    \n",
    "datos.close()\n"
   ]
  },
  {
   "cell_type": "code",
   "execution_count": 19,
   "id": "f2218718",
   "metadata": {},
   "outputs": [],
   "source": [
    "integracion = open(\"Ttl/integracion.ttl\", \"w\")\n",
    "\n",
    "for declaracion in setIntegracion:\n",
    "    integracion.write(declaracion)\n",
    "\n",
    "integracion.close()"
   ]
  }
 ],
 "metadata": {
  "kernelspec": {
   "display_name": "Python 3 (ipykernel)",
   "language": "python",
   "name": "python3"
  },
  "language_info": {
   "codemirror_mode": {
    "name": "ipython",
    "version": 3
   },
   "file_extension": ".py",
   "mimetype": "text/x-python",
   "name": "python",
   "nbconvert_exporter": "python",
   "pygments_lexer": "ipython3",
   "version": "3.8.10"
  }
 },
 "nbformat": 4,
 "nbformat_minor": 5
}
